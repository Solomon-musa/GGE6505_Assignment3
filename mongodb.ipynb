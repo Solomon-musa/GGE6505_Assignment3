{
 "cells": [
  {
   "cell_type": "markdown",
   "metadata": {},
   "source": [
    "#### Summary\n",
    "- We will be getting data from the Openstreetmap API with the use of the \"overpass-api\".\n",
    "- Create a new mongodb database to hold our data.\n",
    "- Run sample SQL query to show all the cafe that can be acessed with a wheel chair in Berlin,Germany."
   ]
  },
  {
   "cell_type": "code",
   "execution_count": 1,
   "metadata": {},
   "outputs": [
    {
     "ename": "ModuleNotFoundError",
     "evalue": "No module named 'pymongo'",
     "output_type": "error",
     "traceback": [
      "\u001b[1;31m---------------------------------------------------------------------------\u001b[0m",
      "\u001b[1;31mModuleNotFoundError\u001b[0m                       Traceback (most recent call last)",
      "\u001b[1;32m<ipython-input-1-7125d893c796>\u001b[0m in \u001b[0;36m<module>\u001b[1;34m\u001b[0m\n\u001b[1;32m----> 1\u001b[1;33m \u001b[1;32mfrom\u001b[0m \u001b[0mpymongo\u001b[0m \u001b[1;32mimport\u001b[0m \u001b[0mMongoClient\u001b[0m\u001b[1;33m\u001b[0m\u001b[1;33m\u001b[0m\u001b[0m\n\u001b[0m\u001b[0;32m      2\u001b[0m \u001b[1;32mimport\u001b[0m \u001b[0mrequests\u001b[0m\u001b[1;33m\u001b[0m\u001b[1;33m\u001b[0m\u001b[0m\n\u001b[0;32m      3\u001b[0m \u001b[1;32mimport\u001b[0m \u001b[0mpandas\u001b[0m \u001b[1;32mas\u001b[0m \u001b[0mpd\u001b[0m\u001b[1;33m\u001b[0m\u001b[1;33m\u001b[0m\u001b[0m\n\u001b[0;32m      4\u001b[0m \u001b[1;32mimport\u001b[0m \u001b[0mfolium\u001b[0m\u001b[1;33m\u001b[0m\u001b[1;33m\u001b[0m\u001b[0m\n",
      "\u001b[1;31mModuleNotFoundError\u001b[0m: No module named 'pymongo'"
     ]
    }
   ],
   "source": [
    "from pymongo import MongoClient\n",
    "import requests\n",
    "import pandas as pd\n",
    "import folium"
   ]
  },
  {
   "cell_type": "markdown",
   "metadata": {},
   "source": [
    "### Get the data"
   ]
  },
  {
   "cell_type": "code",
   "execution_count": null,
   "metadata": {},
   "outputs": [],
   "source": [
    "overpass_url = 'http://overpass-api.de/api/interpreter'\n",
    "overpass_query = \"\"\"\n",
    "    [out:json];\n",
    "    area[\"ISO3166-1\"=\"DE\"][admin_level=2];\n",
    "    node[amenity = 'cafe'](area);\n",
    "    out;\"\"\"\n",
    "\n",
    "response = requests.get(overpass_url, params={'data': overpass_query})\n",
    "data = response.json()\n",
    "\n",
    "# properly structure the data\n",
    "data = data['elements']\n",
    "for i,datum in enumerate(data):\n",
    "    for key in ['lat', 'lon', 'tags']:\n",
    "        if key not in datum.keys():\n",
    "            del data[i]\n",
    "            continue\n",
    "    for key in ['name', 'addr:city', 'wheelchair']:\n",
    "        if key not in datum['tags'].keys():\n",
    "            data[i]['tags'][key] = ''"
   ]
  },
  {
   "cell_type": "code",
   "execution_count": null,
   "metadata": {},
   "outputs": [],
   "source": [
    "myclient = MongoClient('localhost', 27017)\n",
    "\n",
    "# Create a database\n",
    "mydb = myclient[\"mydatabase1\"]\n",
    "\n",
    "# Create a new collection\n",
    "collection_name = 'collection1'\n",
    "mycol = mydb[collection_name]\n",
    "\n",
    "# Prepare data to a format usable by Mongodb\n",
    "for i,datum in enumerate(data):\n",
    "    new_dict = {}\n",
    "    for k,v in datum.items():\n",
    "        if k in ['lat', 'lon']: new_dict[k] = v\n",
    "    for kk in ['name', 'addr:city', 'wheelchair']:\n",
    "        if kk in datum['tags'].keys(): new_dict[kk] = datum['tags'][kk]\n",
    "    data[i] = new_dict"
   ]
  },
  {
   "cell_type": "code",
   "execution_count": null,
   "metadata": {},
   "outputs": [],
   "source": [
    "# Insert data into the collection\n",
    "mycol.insert_many(data)"
   ]
  },
  {
   "cell_type": "markdown",
   "metadata": {},
   "source": [
    "#### Run simple query to get all cafe accessible by wheelchair"
   ]
  },
  {
   "cell_type": "code",
   "execution_count": null,
   "metadata": {},
   "outputs": [],
   "source": [
    "myquery = { \"wheelchair\": \"yes\" }\n",
    "\n",
    "mydoc = mycol.find(myquery)"
   ]
  },
  {
   "cell_type": "code",
   "execution_count": null,
   "metadata": {},
   "outputs": [],
   "source": [
    "new = []\n",
    "for r,i in enumerate(mydoc):\n",
    "    if i['wheelchair'] =='yes' and i['addr:city'] == 'Berlin':\n",
    "        new.append(mydoc[r])"
   ]
  },
  {
   "cell_type": "code",
   "execution_count": null,
   "metadata": {},
   "outputs": [],
   "source": [
    "df = pd.DataFrame(new).copy()"
   ]
  },
  {
   "cell_type": "code",
   "execution_count": null,
   "metadata": {},
   "outputs": [],
   "source": [
    "import folium\n",
    "m = folium.Map(location=df.iloc[50][['lat','lon']].astype('float').values.tolist(), zoom_start=12)\n",
    "\n",
    "tooltip = \"Click Here For More Info\"\n",
    "\n",
    "for row in range(len(df)):\n",
    "    marker = folium.Marker(\n",
    "        location=df.iloc[row][['lat','lon']].astype('float').values.tolist(),\n",
    "        popup=\"<stong>{}</stong>\".format(df.iloc[row]['name']),\n",
    "        tooltip=tooltip)\n",
    "    marker.add_to(m)\n",
    "\n",
    "m"
   ]
  },
  {
   "cell_type": "code",
   "execution_count": null,
   "metadata": {},
   "outputs": [],
   "source": []
  }
 ],
 "metadata": {
  "kernelspec": {
   "display_name": "Python 3",
   "language": "python",
   "name": "python3"
  },
  "language_info": {
   "codemirror_mode": {
    "name": "ipython",
    "version": 3
   },
   "file_extension": ".py",
   "mimetype": "text/x-python",
   "name": "python",
   "nbconvert_exporter": "python",
   "pygments_lexer": "ipython3",
   "version": "3.7.10"
  }
 },
 "nbformat": 4,
 "nbformat_minor": 5
}
